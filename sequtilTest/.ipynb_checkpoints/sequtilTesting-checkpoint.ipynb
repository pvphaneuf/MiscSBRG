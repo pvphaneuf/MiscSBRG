{
 "metadata": {
  "name": "",
  "signature": "sha256:323b29446ed1bcb872df21f528896ee876aa18aa593778b25f2a065cd8104d06"
 },
 "nbformat": 3,
 "nbformat_minor": 0,
 "worksheets": [
  {
   "cells": [
    {
     "cell_type": "code",
     "collapsed": false,
     "input": [
      "import pysam"
     ],
     "language": "python",
     "metadata": {},
     "outputs": [],
     "prompt_number": 1
    },
    {
     "cell_type": "raw",
     "metadata": {},
     "source": [
      "samfile = pysam.Samfile(\"test.sam\", mode=\"w\", referencelengths=[100], referencenames=[\"testchr\"])\n",
      "read = pysam.AlignedRead()\n",
      "read.seq = \"AAAAAAAAAA\"\n",
      "read.pos = 2"
     ]
    },
    {
     "cell_type": "code",
     "collapsed": false,
     "input": [
      "sequence = (\n",
      "\"AGCTTTTCATTCTGACTGCAACGGGCAATATGTCTCTGTGTGGATTAAAAAAAGAGTGTCTGATAGCAGC\"\n",
      "\"TTCTGAACTGGTTACCTGCCGTGAGTAAATTAAAATTTTATTGACTTAGGTCACTAAATACTTTAACCAA\"\n",
      "\"TATAGGCATAGCGCACAGACAGATAAAAATTACAGAGTACACAACATCCATGAAACGCATTAGCACCACC\"\n",
      "\"ATTACCACCACCATCACCATTACCACAGGTAACGGTGCGGGCTGACGCGTACAGGAAACACAGAAAAAAG\"\n",
      "\"CCCGCACCTGACAGTGCGGGCTTTTTTTTTCGACCAAAGGTAACGAGGTAACAACCATGCGAGTGTTGAA\"\n",
      "\"GTTCGGCGGTACATCAGTGGCAAATGCAGAACGTTTTCTGCGTGTTGCCGATATTCTGGAAAGCAATGCC\"\n",
      "\"AGGCAGGGGCAGGTGGCCACCGTCCTCTCTGCCCCCGCCAAAATCACCAACCACCTGGTGGCGATGATTG\"\n",
      "\"AAAAAACCATTAGCGGCCAGGATGCTTTACCCAATATCAGCGATGCCGAACGTATTTTTGCCGAACTTTT\"\n",
      "\"GACGGGACTCGCCGCCGCCCAGCCGGGGTTCCCGCTGGCGCAATTGAAAACTTTCGTCGATCAGGAATTT\"\n",
      "\"GCCCAAATAAAACATGTCCTGCATGGCATTAGTTTGTTGGGGCAGTGCCCGGATAGCATCAACGCTGCGC\"\n",
      ")"
     ],
     "language": "python",
     "metadata": {},
     "outputs": [],
     "prompt_number": 2
    },
    {
     "cell_type": "code",
     "collapsed": false,
     "input": [
      "len(sequence)"
     ],
     "language": "python",
     "metadata": {},
     "outputs": [
      {
       "metadata": {},
       "output_type": "pyout",
       "prompt_number": 3,
       "text": [
        "700"
       ]
      }
     ],
     "prompt_number": 3
    },
    {
     "cell_type": "code",
     "collapsed": false,
     "input": [
      "def reverse_compliment(seq):\n",
      "    matches = {\"A\": \"T\", \"T\": \"A\", \"G\": \"C\", \"C\": \"G\"}\n",
      "    return \"\".join(matches[i] for i in reversed(seq))"
     ],
     "language": "python",
     "metadata": {},
     "outputs": [],
     "prompt_number": 4
    },
    {
     "cell_type": "code",
     "collapsed": false,
     "input": [
      "with open(\"test_SE_plus.fastq\", \"w\") as outfile:\n",
      "    for i in range(10):\n",
      "        outfile.write(\"@TEST_%d\\n\" % i)\n",
      "        outfile.write(sequence[i + 20:i + 55] + \"\\n\")\n",
      "        outfile.write(\"+\\n\")\n",
      "        outfile.write(\"~\" * 35 + \"\\n\")"
     ],
     "language": "python",
     "metadata": {},
     "outputs": [],
     "prompt_number": 5
    },
    {
     "cell_type": "code",
     "collapsed": false,
     "input": [
      "with open(\"test_SE_minus.fastq\", \"w\") as outfile:\n",
      "    rev = reverse_compliment(sequence)\n",
      "    for i in range(10):\n",
      "        outfile.write(\"@TEST_%d\\n\" % i)\n",
      "        outfile.write(rev[i + 20:i + 55] + \"\\n\")\n",
      "        outfile.write(\"+\\n\")\n",
      "        outfile.write(\"~\" * 35 + \"\\n\")"
     ],
     "language": "python",
     "metadata": {},
     "outputs": [],
     "prompt_number": 6
    },
    {
     "cell_type": "code",
     "collapsed": false,
     "input": [
      "!bowtie2 \"/home/pphaneuf/sequencing/NC_000913_2/NC_000913_2\" test_SE_plus.fastq -S test_SE_plus.sam\n",
      "!bowtie2 \"/home/pphaneuf/sequencing/NC_000913_2/NC_000913_2\" test_SE_minus.fastq -S test_SE_minus.sam\n",
      "!bowtie2 -X 1000 \"/home/pphaneuf/sequencing/NC_000913_2/NC_000913_2\" -1 test_SE_plus.fastq -2 test_SE_minus.fastq -S test_PE.sam\n",
      "!bowtie2 -X 1000 \"/home/pphaneuf/sequencing/NC_000913_2/NC_000913_2\" -2 test_SE_plus.fastq -1 test_SE_minus.fastq -S test_PE_rev.sam"
     ],
     "language": "python",
     "metadata": {},
     "outputs": [
      {
       "output_type": "stream",
       "stream": "stdout",
       "text": [
        "10 reads; of these:\r\n",
        "  10 (100.00%) were unpaired; of these:\r\n",
        "    0 (0.00%) aligned 0 times\r\n",
        "    10 (100.00%) aligned exactly 1 time\r\n",
        "    0 (0.00%) aligned >1 times\r\n",
        "100.00% overall alignment rate\r\n"
       ]
      },
      {
       "output_type": "stream",
       "stream": "stdout",
       "text": [
        "10 reads; of these:\r\n",
        "  10 (100.00%) were unpaired; of these:\r\n",
        "    0 (0.00%) aligned 0 times\r\n",
        "    10 (100.00%) aligned exactly 1 time\r\n",
        "    0 (0.00%) aligned >1 times\r\n",
        "100.00% overall alignment rate\r\n"
       ]
      },
      {
       "output_type": "stream",
       "stream": "stdout",
       "text": [
        "10 reads; of these:\r\n",
        "  10 (100.00%) were paired; of these:\r\n",
        "    0 (0.00%) aligned concordantly 0 times\r\n",
        "    10 (100.00%) aligned concordantly exactly 1 time\r\n",
        "    0 (0.00%) aligned concordantly >1 times\r\n",
        "    ----\r\n",
        "    0 pairs aligned concordantly 0 times; of these:\r\n",
        "      0 (0.00%) aligned discordantly 1 time\r\n",
        "    ----\r\n",
        "    0 pairs aligned 0 times concordantly or discordantly; of these:\r\n",
        "      0 mates make up the pairs; of these:\r\n",
        "        0 (0.00%) aligned 0 times\r\n",
        "        0 (0.00%) aligned exactly 1 time\r\n",
        "        0 (0.00%) aligned >1 times\r\n",
        "100.00% overall alignment rate\r\n"
       ]
      },
      {
       "output_type": "stream",
       "stream": "stdout",
       "text": [
        "10 reads; of these:\r\n",
        "  10 (100.00%) were paired; of these:\r\n",
        "    0 (0.00%) aligned concordantly 0 times\r\n",
        "    10 (100.00%) aligned concordantly exactly 1 time\r\n",
        "    0 (0.00%) aligned concordantly >1 times\r\n",
        "    ----\r\n",
        "    0 pairs aligned concordantly 0 times; of these:\r\n",
        "      0 (0.00%) aligned discordantly 1 time\r\n",
        "    ----\r\n",
        "    0 pairs aligned 0 times concordantly or discordantly; of these:\r\n",
        "      0 mates make up the pairs; of these:\r\n",
        "        0 (0.00%) aligned 0 times\r\n",
        "        0 (0.00%) aligned exactly 1 time\r\n",
        "        0 (0.00%) aligned >1 times\r\n",
        "100.00% overall alignment rate\r\n"
       ]
      }
     ],
     "prompt_number": 7
    },
    {
     "cell_type": "code",
     "collapsed": false,
     "input": [
      "from sequtil import makegff"
     ],
     "language": "python",
     "metadata": {},
     "outputs": [
      {
       "ename": "ImportError",
       "evalue": "No module named sequtil.sequtil.sequtil",
       "output_type": "pyerr",
       "traceback": [
        "\u001b[1;31m---------------------------------------------------------------------------\u001b[0m\n\u001b[1;31mImportError\u001b[0m                               Traceback (most recent call last)",
        "\u001b[1;32m<ipython-input-12-e863c0787a88>\u001b[0m in \u001b[0;36m<module>\u001b[1;34m()\u001b[0m\n\u001b[1;32m----> 1\u001b[1;33m \u001b[1;32mfrom\u001b[0m \u001b[0msequtil\u001b[0m\u001b[1;33m.\u001b[0m\u001b[0msequtil\u001b[0m\u001b[1;33m.\u001b[0m\u001b[0msequtil\u001b[0m \u001b[1;32mimport\u001b[0m \u001b[0mmakegff\u001b[0m\u001b[1;33m\u001b[0m\u001b[0m\n\u001b[0m",
        "\u001b[1;31mImportError\u001b[0m: No module named sequtil.sequtil.sequtil"
       ]
      }
     ],
     "prompt_number": 12
    },
    {
     "cell_type": "code",
     "collapsed": false,
     "input": [
      "makegff.write_samfile_to_gff(\"test_SE_plus.sam\", \"test_SE_plus.gff\")\n",
      "makegff.write_samfile_to_gff(\"test_SE_plus.sam\", \"test_SE_plus_5.gff\", five_prime=True)\n",
      "makegff.write_samfile_to_gff(\"test_SE_minus.sam\", \"test_SE_minus.gff\")\n",
      "makegff.write_samfile_to_gff(\"test_SE_minus.sam\", \"test_SE_minus_5.gff\", five_prime=True)\n",
      "makegff.write_samfile_to_gff(\"test_PE.sam\", \"test_PE.gff\")\n",
      "makegff.write_samfile_to_gff(\"test_PE.sam\", \"test_PE_5.gff\", five_prime=True)\n",
      "makegff.write_samfile_to_gff(\"test_PE_rev.sam\", \"test_PE_rev.gff\")\n",
      "makegff.write_samfile_to_gff(\"test_PE_rev.sam\", \"test_PE_rev_5.gff\", five_prime=True)"
     ],
     "language": "python",
     "metadata": {},
     "outputs": [
      {
       "output_type": "stream",
       "stream": "stderr",
       "text": [
        "/home/aebrahim/sequtil/sequtil/makegff.py:99: UserWarning: 5' only data should not have been processed as Paired-end. What are you doing?\n",
        "  warn(\"5' only data should not have been processed as Paired-end. \"\n"
       ]
      }
     ],
     "prompt_number": 9
    },
    {
     "cell_type": "code",
     "collapsed": false,
     "input": [
      "!cat test_SE_plus.gff"
     ],
     "language": "python",
     "metadata": {},
     "outputs": [
      {
       "output_type": "stream",
       "stream": "stdout",
       "text": [
        "NC_000913\t\ttest_SE_plus.sam\t21\t21\t1\t+\t.\t.\r\n",
        "NC_000913\t\ttest_SE_plus.sam\t22\t22\t2\t+\t.\t.\r\n",
        "NC_000913\t\ttest_SE_plus.sam\t23\t23\t3\t+\t.\t.\r\n",
        "NC_000913\t\ttest_SE_plus.sam\t24\t24\t4\t+\t.\t.\r\n",
        "NC_000913\t\ttest_SE_plus.sam\t25\t25\t5\t+\t.\t.\r\n",
        "NC_000913\t\ttest_SE_plus.sam\t26\t26\t6\t+\t.\t.\r\n",
        "NC_000913\t\ttest_SE_plus.sam\t27\t27\t7\t+\t.\t.\r\n",
        "NC_000913\t\ttest_SE_plus.sam\t28\t28\t8\t+\t.\t.\r\n",
        "NC_000913\t\ttest_SE_plus.sam\t29\t29\t9\t+\t.\t.\r\n",
        "NC_000913\t\ttest_SE_plus.sam\t30\t30\t10\t+\t.\t.\r\n",
        "NC_000913\t\ttest_SE_plus.sam\t31\t31\t10\t+\t.\t.\r\n",
        "NC_000913\t\ttest_SE_plus.sam\t32\t32\t10\t+\t.\t.\r\n",
        "NC_000913\t\ttest_SE_plus.sam\t33\t33\t10\t+\t.\t.\r\n",
        "NC_000913\t\ttest_SE_plus.sam\t34\t34\t10\t+\t.\t.\r\n",
        "NC_000913\t\ttest_SE_plus.sam\t35\t35\t10\t+\t.\t.\r\n",
        "NC_000913\t\ttest_SE_plus.sam\t36\t36\t10\t+\t.\t.\r\n",
        "NC_000913\t\ttest_SE_plus.sam\t37\t37\t10\t+\t.\t.\r\n",
        "NC_000913\t\ttest_SE_plus.sam\t38\t38\t10\t+\t.\t.\r\n",
        "NC_000913\t\ttest_SE_plus.sam\t39\t39\t10\t+\t.\t.\r\n",
        "NC_000913\t\ttest_SE_plus.sam\t40\t40\t10\t+\t.\t.\r\n",
        "NC_000913\t\ttest_SE_plus.sam\t41\t41\t10\t+\t.\t.\r\n",
        "NC_000913\t\ttest_SE_plus.sam\t42\t42\t10\t+\t.\t.\r\n",
        "NC_000913\t\ttest_SE_plus.sam\t43\t43\t10\t+\t.\t.\r\n",
        "NC_000913\t\ttest_SE_plus.sam\t44\t44\t10\t+\t.\t.\r\n",
        "NC_000913\t\ttest_SE_plus.sam\t45\t45\t10\t+\t.\t.\r\n",
        "NC_000913\t\ttest_SE_plus.sam\t46\t46\t10\t+\t.\t.\r\n",
        "NC_000913\t\ttest_SE_plus.sam\t47\t47\t10\t+\t.\t.\r\n",
        "NC_000913\t\ttest_SE_plus.sam\t48\t48\t10\t+\t.\t.\r\n",
        "NC_000913\t\ttest_SE_plus.sam\t49\t49\t10\t+\t.\t.\r\n",
        "NC_000913\t\ttest_SE_plus.sam\t50\t50\t10\t+\t.\t.\r\n",
        "NC_000913\t\ttest_SE_plus.sam\t51\t51\t10\t+\t.\t.\r\n",
        "NC_000913\t\ttest_SE_plus.sam\t52\t52\t10\t+\t.\t.\r\n",
        "NC_000913\t\ttest_SE_plus.sam\t53\t53\t10\t+\t.\t.\r\n",
        "NC_000913\t\ttest_SE_plus.sam\t54\t54\t10\t+\t.\t.\r\n",
        "NC_000913\t\ttest_SE_plus.sam\t55\t55\t10\t+\t.\t.\r\n",
        "NC_000913\t\ttest_SE_plus.sam\t56\t56\t9\t+\t.\t.\r\n",
        "NC_000913\t\ttest_SE_plus.sam\t57\t57\t8\t+\t.\t.\r\n",
        "NC_000913\t\ttest_SE_plus.sam\t58\t58\t7\t+\t.\t.\r\n",
        "NC_000913\t\ttest_SE_plus.sam\t59\t59\t6\t+\t.\t.\r\n",
        "NC_000913\t\ttest_SE_plus.sam\t60\t60\t5\t+\t.\t.\r\n",
        "NC_000913\t\ttest_SE_plus.sam\t61\t61\t4\t+\t.\t.\r\n",
        "NC_000913\t\ttest_SE_plus.sam\t62\t62\t3\t+\t.\t.\r\n",
        "NC_000913\t\ttest_SE_plus.sam\t63\t63\t2\t+\t.\t.\r\n",
        "NC_000913\t\ttest_SE_plus.sam\t64\t64\t1\t+\t.\t.\r\n"
       ]
      }
     ],
     "prompt_number": 10
    },
    {
     "cell_type": "code",
     "collapsed": false,
     "input": [
      "!cat test_SE_minus.gff"
     ],
     "language": "python",
     "metadata": {},
     "outputs": [
      {
       "output_type": "stream",
       "stream": "stdout",
       "text": [
        "NC_000913\t\ttest_SE_minus.sam\t637\t637\t-1\t-\t.\t.\r\n",
        "NC_000913\t\ttest_SE_minus.sam\t638\t638\t-2\t-\t.\t.\r\n",
        "NC_000913\t\ttest_SE_minus.sam\t639\t639\t-3\t-\t.\t.\r\n",
        "NC_000913\t\ttest_SE_minus.sam\t640\t640\t-4\t-\t.\t.\r\n",
        "NC_000913\t\ttest_SE_minus.sam\t641\t641\t-5\t-\t.\t.\r\n",
        "NC_000913\t\ttest_SE_minus.sam\t642\t642\t-6\t-\t.\t.\r\n",
        "NC_000913\t\ttest_SE_minus.sam\t643\t643\t-7\t-\t.\t.\r\n",
        "NC_000913\t\ttest_SE_minus.sam\t644\t644\t-8\t-\t.\t.\r\n",
        "NC_000913\t\ttest_SE_minus.sam\t645\t645\t-9\t-\t.\t.\r\n",
        "NC_000913\t\ttest_SE_minus.sam\t646\t646\t-10\t-\t.\t.\r\n",
        "NC_000913\t\ttest_SE_minus.sam\t647\t647\t-10\t-\t.\t.\r\n",
        "NC_000913\t\ttest_SE_minus.sam\t648\t648\t-10\t-\t.\t.\r\n",
        "NC_000913\t\ttest_SE_minus.sam\t649\t649\t-10\t-\t.\t.\r\n",
        "NC_000913\t\ttest_SE_minus.sam\t650\t650\t-10\t-\t.\t.\r\n",
        "NC_000913\t\ttest_SE_minus.sam\t651\t651\t-10\t-\t.\t.\r\n",
        "NC_000913\t\ttest_SE_minus.sam\t652\t652\t-10\t-\t.\t.\r\n",
        "NC_000913\t\ttest_SE_minus.sam\t653\t653\t-10\t-\t.\t.\r\n",
        "NC_000913\t\ttest_SE_minus.sam\t654\t654\t-10\t-\t.\t.\r\n",
        "NC_000913\t\ttest_SE_minus.sam\t655\t655\t-10\t-\t.\t.\r\n",
        "NC_000913\t\ttest_SE_minus.sam\t656\t656\t-10\t-\t.\t.\r\n",
        "NC_000913\t\ttest_SE_minus.sam\t657\t657\t-10\t-\t.\t.\r\n",
        "NC_000913\t\ttest_SE_minus.sam\t658\t658\t-10\t-\t.\t.\r\n",
        "NC_000913\t\ttest_SE_minus.sam\t659\t659\t-10\t-\t.\t.\r\n",
        "NC_000913\t\ttest_SE_minus.sam\t660\t660\t-10\t-\t.\t.\r\n",
        "NC_000913\t\ttest_SE_minus.sam\t661\t661\t-10\t-\t.\t.\r\n",
        "NC_000913\t\ttest_SE_minus.sam\t662\t662\t-10\t-\t.\t.\r\n",
        "NC_000913\t\ttest_SE_minus.sam\t663\t663\t-10\t-\t.\t.\r\n",
        "NC_000913\t\ttest_SE_minus.sam\t664\t664\t-10\t-\t.\t.\r\n",
        "NC_000913\t\ttest_SE_minus.sam\t665\t665\t-10\t-\t.\t.\r\n",
        "NC_000913\t\ttest_SE_minus.sam\t666\t666\t-10\t-\t.\t.\r\n",
        "NC_000913\t\ttest_SE_minus.sam\t667\t667\t-10\t-\t.\t.\r\n",
        "NC_000913\t\ttest_SE_minus.sam\t668\t668\t-10\t-\t.\t.\r\n",
        "NC_000913\t\ttest_SE_minus.sam\t669\t669\t-10\t-\t.\t.\r\n",
        "NC_000913\t\ttest_SE_minus.sam\t670\t670\t-10\t-\t.\t.\r\n",
        "NC_000913\t\ttest_SE_minus.sam\t671\t671\t-10\t-\t.\t.\r\n",
        "NC_000913\t\ttest_SE_minus.sam\t672\t672\t-9\t-\t.\t.\r\n",
        "NC_000913\t\ttest_SE_minus.sam\t673\t673\t-8\t-\t.\t.\r\n",
        "NC_000913\t\ttest_SE_minus.sam\t674\t674\t-7\t-\t.\t.\r\n",
        "NC_000913\t\ttest_SE_minus.sam\t675\t675\t-6\t-\t.\t.\r\n",
        "NC_000913\t\ttest_SE_minus.sam\t676\t676\t-5\t-\t.\t.\r\n",
        "NC_000913\t\ttest_SE_minus.sam\t677\t677\t-4\t-\t.\t.\r\n",
        "NC_000913\t\ttest_SE_minus.sam\t678\t678\t-3\t-\t.\t.\r\n",
        "NC_000913\t\ttest_SE_minus.sam\t679\t679\t-2\t-\t.\t.\r\n",
        "NC_000913\t\ttest_SE_minus.sam\t680\t680\t-1\t-\t.\t.\r\n"
       ]
      }
     ],
     "prompt_number": 11
    },
    {
     "cell_type": "code",
     "collapsed": false,
     "input": [
      "!cat test_PE.gff"
     ],
     "language": "python",
     "metadata": {},
     "outputs": [
      {
       "output_type": "stream",
       "stream": "stdout",
       "text": [
        "NC_000913\t\ttest_PE.sam\t21\t21\t1\t+\t.\t.\r\n",
        "NC_000913\t\ttest_PE.sam\t22\t22\t2\t+\t.\t.\r\n",
        "NC_000913\t\ttest_PE.sam\t23\t23\t3\t+\t.\t.\r\n",
        "NC_000913\t\ttest_PE.sam\t24\t24\t4\t+\t.\t.\r\n",
        "NC_000913\t\ttest_PE.sam\t25\t25\t5\t+\t.\t.\r\n",
        "NC_000913\t\ttest_PE.sam\t26\t26\t6\t+\t.\t.\r\n",
        "NC_000913\t\ttest_PE.sam\t27\t27\t7\t+\t.\t.\r\n",
        "NC_000913\t\ttest_PE.sam\t28\t28\t8\t+\t.\t.\r\n",
        "NC_000913\t\ttest_PE.sam\t29\t29\t9\t+\t.\t.\r\n",
        "NC_000913\t\ttest_PE.sam\t30\t30\t10\t+\t.\t.\r\n",
        "NC_000913\t\ttest_PE.sam\t31\t31\t10\t+\t.\t.\r\n",
        "NC_000913\t\ttest_PE.sam\t32\t32\t10\t+\t.\t.\r\n",
        "NC_000913\t\ttest_PE.sam\t33\t33\t10\t+\t.\t.\r\n",
        "NC_000913\t\ttest_PE.sam\t34\t34\t10\t+\t.\t.\r\n",
        "NC_000913\t\ttest_PE.sam\t35\t35\t10\t+\t.\t.\r\n",
        "NC_000913\t\ttest_PE.sam\t36\t36\t10\t+\t.\t.\r\n",
        "NC_000913\t\ttest_PE.sam\t37\t37\t10\t+\t.\t.\r\n",
        "NC_000913\t\ttest_PE.sam\t38\t38\t10\t+\t.\t.\r\n",
        "NC_000913\t\ttest_PE.sam\t39\t39\t10\t+\t.\t.\r\n",
        "NC_000913\t\ttest_PE.sam\t40\t40\t10\t+\t.\t.\r\n",
        "NC_000913\t\ttest_PE.sam\t41\t41\t10\t+\t.\t.\r\n",
        "NC_000913\t\ttest_PE.sam\t42\t42\t10\t+\t.\t.\r\n",
        "NC_000913\t\ttest_PE.sam\t43\t43\t10\t+\t.\t.\r\n",
        "NC_000913\t\ttest_PE.sam\t44\t44\t10\t+\t.\t.\r\n",
        "NC_000913\t\ttest_PE.sam\t45\t45\t10\t+\t.\t.\r\n",
        "NC_000913\t\ttest_PE.sam\t46\t46\t10\t+\t.\t.\r\n",
        "NC_000913\t\ttest_PE.sam\t47\t47\t10\t+\t.\t.\r\n",
        "NC_000913\t\ttest_PE.sam\t48\t48\t10\t+\t.\t.\r\n",
        "NC_000913\t\ttest_PE.sam\t49\t49\t10\t+\t.\t.\r\n",
        "NC_000913\t\ttest_PE.sam\t50\t50\t10\t+\t.\t.\r\n",
        "NC_000913\t\ttest_PE.sam\t51\t51\t10\t+\t.\t.\r\n",
        "NC_000913\t\ttest_PE.sam\t52\t52\t10\t+\t.\t.\r\n",
        "NC_000913\t\ttest_PE.sam\t53\t53\t10\t+\t.\t.\r\n",
        "NC_000913\t\ttest_PE.sam\t54\t54\t10\t+\t.\t.\r\n",
        "NC_000913\t\ttest_PE.sam\t55\t55\t10\t+\t.\t.\r\n",
        "NC_000913\t\ttest_PE.sam\t56\t56\t9\t+\t.\t.\r\n",
        "NC_000913\t\ttest_PE.sam\t57\t57\t8\t+\t.\t.\r\n",
        "NC_000913\t\ttest_PE.sam\t58\t58\t7\t+\t.\t.\r\n",
        "NC_000913\t\ttest_PE.sam\t59\t59\t6\t+\t.\t.\r\n",
        "NC_000913\t\ttest_PE.sam\t60\t60\t5\t+\t.\t.\r\n",
        "NC_000913\t\ttest_PE.sam\t61\t61\t4\t+\t.\t.\r\n",
        "NC_000913\t\ttest_PE.sam\t62\t62\t3\t+\t.\t.\r\n",
        "NC_000913\t\ttest_PE.sam\t63\t63\t2\t+\t.\t.\r\n",
        "NC_000913\t\ttest_PE.sam\t64\t64\t1\t+\t.\t.\r\n",
        "NC_000913\t\ttest_PE.sam\t637\t637\t1\t+\t.\t.\r\n",
        "NC_000913\t\ttest_PE.sam\t638\t638\t2\t+\t.\t.\r\n",
        "NC_000913\t\ttest_PE.sam\t639\t639\t3\t+\t.\t.\r\n",
        "NC_000913\t\ttest_PE.sam\t640\t640\t4\t+\t.\t.\r\n",
        "NC_000913\t\ttest_PE.sam\t641\t641\t5\t+\t.\t.\r\n",
        "NC_000913\t\ttest_PE.sam\t642\t642\t6\t+\t.\t.\r\n",
        "NC_000913\t\ttest_PE.sam\t643\t643\t7\t+\t.\t.\r\n",
        "NC_000913\t\ttest_PE.sam\t644\t644\t8\t+\t.\t.\r\n",
        "NC_000913\t\ttest_PE.sam\t645\t645\t9\t+\t.\t.\r\n",
        "NC_000913\t\ttest_PE.sam\t646\t646\t10\t+\t.\t.\r\n",
        "NC_000913\t\ttest_PE.sam\t647\t647\t10\t+\t.\t.\r\n",
        "NC_000913\t\ttest_PE.sam\t648\t648\t10\t+\t.\t.\r\n",
        "NC_000913\t\ttest_PE.sam\t649\t649\t10\t+\t.\t.\r\n",
        "NC_000913\t\ttest_PE.sam\t650\t650\t10\t+\t.\t.\r\n",
        "NC_000913\t\ttest_PE.sam\t651\t651\t10\t+\t.\t.\r\n",
        "NC_000913\t\ttest_PE.sam\t652\t652\t10\t+\t.\t.\r\n",
        "NC_000913\t\ttest_PE.sam\t653\t653\t10\t+\t.\t.\r\n",
        "NC_000913\t\ttest_PE.sam\t654\t654\t10\t+\t.\t.\r\n",
        "NC_000913\t\ttest_PE.sam\t655\t655\t10\t+\t.\t.\r\n",
        "NC_000913\t\ttest_PE.sam\t656\t656\t10\t+\t.\t.\r\n",
        "NC_000913\t\ttest_PE.sam\t657\t657\t10\t+\t.\t.\r\n",
        "NC_000913\t\ttest_PE.sam\t658\t658\t10\t+\t.\t.\r\n",
        "NC_000913\t\ttest_PE.sam\t659\t659\t10\t+\t.\t.\r\n",
        "NC_000913\t\ttest_PE.sam\t660\t660\t10\t+\t.\t.\r\n",
        "NC_000913\t\ttest_PE.sam\t661\t661\t10\t+\t.\t.\r\n",
        "NC_000913\t\ttest_PE.sam\t662\t662\t10\t+\t.\t.\r\n",
        "NC_000913\t\ttest_PE.sam\t663\t663\t10\t+\t.\t.\r\n",
        "NC_000913\t\ttest_PE.sam\t664\t664\t10\t+\t.\t.\r\n",
        "NC_000913\t\ttest_PE.sam\t665\t665\t10\t+\t.\t.\r\n",
        "NC_000913\t\ttest_PE.sam\t666\t666\t10\t+\t.\t.\r\n",
        "NC_000913\t\ttest_PE.sam\t667\t667\t10\t+\t.\t.\r\n",
        "NC_000913\t\ttest_PE.sam\t668\t668\t10\t+\t.\t.\r\n",
        "NC_000913\t\ttest_PE.sam\t669\t669\t10\t+\t.\t.\r\n",
        "NC_000913\t\ttest_PE.sam\t670\t670\t10\t+\t.\t.\r\n",
        "NC_000913\t\ttest_PE.sam\t671\t671\t10\t+\t.\t.\r\n",
        "NC_000913\t\ttest_PE.sam\t672\t672\t9\t+\t.\t.\r\n",
        "NC_000913\t\ttest_PE.sam\t673\t673\t8\t+\t.\t.\r\n",
        "NC_000913\t\ttest_PE.sam\t674\t674\t7\t+\t.\t.\r\n",
        "NC_000913\t\ttest_PE.sam\t675\t675\t6\t+\t.\t.\r\n",
        "NC_000913\t\ttest_PE.sam\t676\t676\t5\t+\t.\t.\r\n",
        "NC_000913\t\ttest_PE.sam\t677\t677\t4\t+\t.\t.\r\n",
        "NC_000913\t\ttest_PE.sam\t678\t678\t3\t+\t.\t.\r\n",
        "NC_000913\t\ttest_PE.sam\t679\t679\t2\t+\t.\t.\r\n",
        "NC_000913\t\ttest_PE.sam\t680\t680\t1\t+\t.\t.\r\n"
       ]
      }
     ],
     "prompt_number": 12
    },
    {
     "cell_type": "code",
     "collapsed": false,
     "input": [
      "!cat test_PE_rev.gff"
     ],
     "language": "python",
     "metadata": {},
     "outputs": [
      {
       "output_type": "stream",
       "stream": "stdout",
       "text": [
        "NC_000913\t\ttest_PE_rev.sam\t21\t21\t-1\t-\t.\t.\r\n",
        "NC_000913\t\ttest_PE_rev.sam\t22\t22\t-2\t-\t.\t.\r\n",
        "NC_000913\t\ttest_PE_rev.sam\t23\t23\t-3\t-\t.\t.\r\n",
        "NC_000913\t\ttest_PE_rev.sam\t24\t24\t-4\t-\t.\t.\r\n",
        "NC_000913\t\ttest_PE_rev.sam\t25\t25\t-5\t-\t.\t.\r\n",
        "NC_000913\t\ttest_PE_rev.sam\t26\t26\t-6\t-\t.\t.\r\n",
        "NC_000913\t\ttest_PE_rev.sam\t27\t27\t-7\t-\t.\t.\r\n",
        "NC_000913\t\ttest_PE_rev.sam\t28\t28\t-8\t-\t.\t.\r\n",
        "NC_000913\t\ttest_PE_rev.sam\t29\t29\t-9\t-\t.\t.\r\n",
        "NC_000913\t\ttest_PE_rev.sam\t30\t30\t-10\t-\t.\t.\r\n",
        "NC_000913\t\ttest_PE_rev.sam\t31\t31\t-10\t-\t.\t.\r\n",
        "NC_000913\t\ttest_PE_rev.sam\t32\t32\t-10\t-\t.\t.\r\n",
        "NC_000913\t\ttest_PE_rev.sam\t33\t33\t-10\t-\t.\t.\r\n",
        "NC_000913\t\ttest_PE_rev.sam\t34\t34\t-10\t-\t.\t.\r\n",
        "NC_000913\t\ttest_PE_rev.sam\t35\t35\t-10\t-\t.\t.\r\n",
        "NC_000913\t\ttest_PE_rev.sam\t36\t36\t-10\t-\t.\t.\r\n",
        "NC_000913\t\ttest_PE_rev.sam\t37\t37\t-10\t-\t.\t.\r\n",
        "NC_000913\t\ttest_PE_rev.sam\t38\t38\t-10\t-\t.\t.\r\n",
        "NC_000913\t\ttest_PE_rev.sam\t39\t39\t-10\t-\t.\t.\r\n",
        "NC_000913\t\ttest_PE_rev.sam\t40\t40\t-10\t-\t.\t.\r\n",
        "NC_000913\t\ttest_PE_rev.sam\t41\t41\t-10\t-\t.\t.\r\n",
        "NC_000913\t\ttest_PE_rev.sam\t42\t42\t-10\t-\t.\t.\r\n",
        "NC_000913\t\ttest_PE_rev.sam\t43\t43\t-10\t-\t.\t.\r\n",
        "NC_000913\t\ttest_PE_rev.sam\t44\t44\t-10\t-\t.\t.\r\n",
        "NC_000913\t\ttest_PE_rev.sam\t45\t45\t-10\t-\t.\t.\r\n",
        "NC_000913\t\ttest_PE_rev.sam\t46\t46\t-10\t-\t.\t.\r\n",
        "NC_000913\t\ttest_PE_rev.sam\t47\t47\t-10\t-\t.\t.\r\n",
        "NC_000913\t\ttest_PE_rev.sam\t48\t48\t-10\t-\t.\t.\r\n",
        "NC_000913\t\ttest_PE_rev.sam\t49\t49\t-10\t-\t.\t.\r\n",
        "NC_000913\t\ttest_PE_rev.sam\t50\t50\t-10\t-\t.\t.\r\n",
        "NC_000913\t\ttest_PE_rev.sam\t51\t51\t-10\t-\t.\t.\r\n",
        "NC_000913\t\ttest_PE_rev.sam\t52\t52\t-10\t-\t.\t.\r\n",
        "NC_000913\t\ttest_PE_rev.sam\t53\t53\t-10\t-\t.\t.\r\n",
        "NC_000913\t\ttest_PE_rev.sam\t54\t54\t-10\t-\t.\t.\r\n",
        "NC_000913\t\ttest_PE_rev.sam\t55\t55\t-10\t-\t.\t.\r\n",
        "NC_000913\t\ttest_PE_rev.sam\t56\t56\t-9\t-\t.\t.\r\n",
        "NC_000913\t\ttest_PE_rev.sam\t57\t57\t-8\t-\t.\t.\r\n",
        "NC_000913\t\ttest_PE_rev.sam\t58\t58\t-7\t-\t.\t.\r\n",
        "NC_000913\t\ttest_PE_rev.sam\t59\t59\t-6\t-\t.\t.\r\n",
        "NC_000913\t\ttest_PE_rev.sam\t60\t60\t-5\t-\t.\t.\r\n",
        "NC_000913\t\ttest_PE_rev.sam\t61\t61\t-4\t-\t.\t.\r\n",
        "NC_000913\t\ttest_PE_rev.sam\t62\t62\t-3\t-\t.\t.\r\n",
        "NC_000913\t\ttest_PE_rev.sam\t63\t63\t-2\t-\t.\t.\r\n",
        "NC_000913\t\ttest_PE_rev.sam\t64\t64\t-1\t-\t.\t.\r\n",
        "NC_000913\t\ttest_PE_rev.sam\t637\t637\t-1\t-\t.\t.\r\n",
        "NC_000913\t\ttest_PE_rev.sam\t638\t638\t-2\t-\t.\t.\r\n",
        "NC_000913\t\ttest_PE_rev.sam\t639\t639\t-3\t-\t.\t.\r\n",
        "NC_000913\t\ttest_PE_rev.sam\t640\t640\t-4\t-\t.\t.\r\n",
        "NC_000913\t\ttest_PE_rev.sam\t641\t641\t-5\t-\t.\t.\r\n",
        "NC_000913\t\ttest_PE_rev.sam\t642\t642\t-6\t-\t.\t.\r\n",
        "NC_000913\t\ttest_PE_rev.sam\t643\t643\t-7\t-\t.\t.\r\n",
        "NC_000913\t\ttest_PE_rev.sam\t644\t644\t-8\t-\t.\t.\r\n",
        "NC_000913\t\ttest_PE_rev.sam\t645\t645\t-9\t-\t.\t.\r\n",
        "NC_000913\t\ttest_PE_rev.sam\t646\t646\t-10\t-\t.\t.\r\n",
        "NC_000913\t\ttest_PE_rev.sam\t647\t647\t-10\t-\t.\t.\r\n",
        "NC_000913\t\ttest_PE_rev.sam\t648\t648\t-10\t-\t.\t.\r\n",
        "NC_000913\t\ttest_PE_rev.sam\t649\t649\t-10\t-\t.\t.\r\n",
        "NC_000913\t\ttest_PE_rev.sam\t650\t650\t-10\t-\t.\t.\r\n",
        "NC_000913\t\ttest_PE_rev.sam\t651\t651\t-10\t-\t.\t.\r\n",
        "NC_000913\t\ttest_PE_rev.sam\t652\t652\t-10\t-\t.\t.\r\n",
        "NC_000913\t\ttest_PE_rev.sam\t653\t653\t-10\t-\t.\t.\r\n",
        "NC_000913\t\ttest_PE_rev.sam\t654\t654\t-10\t-\t.\t.\r\n",
        "NC_000913\t\ttest_PE_rev.sam\t655\t655\t-10\t-\t.\t.\r\n",
        "NC_000913\t\ttest_PE_rev.sam\t656\t656\t-10\t-\t.\t.\r\n",
        "NC_000913\t\ttest_PE_rev.sam\t657\t657\t-10\t-\t.\t.\r\n",
        "NC_000913\t\ttest_PE_rev.sam\t658\t658\t-10\t-\t.\t.\r\n",
        "NC_000913\t\ttest_PE_rev.sam\t659\t659\t-10\t-\t.\t.\r\n",
        "NC_000913\t\ttest_PE_rev.sam\t660\t660\t-10\t-\t.\t.\r\n",
        "NC_000913\t\ttest_PE_rev.sam\t661\t661\t-10\t-\t.\t.\r\n",
        "NC_000913\t\ttest_PE_rev.sam\t662\t662\t-10\t-\t.\t.\r\n",
        "NC_000913\t\ttest_PE_rev.sam\t663\t663\t-10\t-\t.\t.\r\n",
        "NC_000913\t\ttest_PE_rev.sam\t664\t664\t-10\t-\t.\t.\r\n",
        "NC_000913\t\ttest_PE_rev.sam\t665\t665\t-10\t-\t.\t.\r\n",
        "NC_000913\t\ttest_PE_rev.sam\t666\t666\t-10\t-\t.\t.\r\n",
        "NC_000913\t\ttest_PE_rev.sam\t667\t667\t-10\t-\t.\t.\r\n",
        "NC_000913\t\ttest_PE_rev.sam\t668\t668\t-10\t-\t.\t.\r\n",
        "NC_000913\t\ttest_PE_rev.sam\t669\t669\t-10\t-\t.\t.\r\n",
        "NC_000913\t\ttest_PE_rev.sam\t670\t670\t-10\t-\t.\t.\r\n",
        "NC_000913\t\ttest_PE_rev.sam\t671\t671\t-10\t-\t.\t.\r\n",
        "NC_000913\t\ttest_PE_rev.sam\t672\t672\t-9\t-\t.\t.\r\n",
        "NC_000913\t\ttest_PE_rev.sam\t673\t673\t-8\t-\t.\t.\r\n",
        "NC_000913\t\ttest_PE_rev.sam\t674\t674\t-7\t-\t.\t.\r\n",
        "NC_000913\t\ttest_PE_rev.sam\t675\t675\t-6\t-\t.\t.\r\n",
        "NC_000913\t\ttest_PE_rev.sam\t676\t676\t-5\t-\t.\t.\r\n",
        "NC_000913\t\ttest_PE_rev.sam\t677\t677\t-4\t-\t.\t.\r\n",
        "NC_000913\t\ttest_PE_rev.sam\t678\t678\t-3\t-\t.\t.\r\n",
        "NC_000913\t\ttest_PE_rev.sam\t679\t679\t-2\t-\t.\t.\r\n",
        "NC_000913\t\ttest_PE_rev.sam\t680\t680\t-1\t-\t.\t.\r\n"
       ]
      }
     ],
     "prompt_number": 13
    },
    {
     "cell_type": "code",
     "collapsed": false,
     "input": [
      "!cat test_PE_5.gff"
     ],
     "language": "python",
     "metadata": {},
     "outputs": [
      {
       "output_type": "stream",
       "stream": "stdout",
       "text": [
        "NC_000913\t\ttest_PE.sam\t21\t21\t1\t+\t.\t.\r\n",
        "NC_000913\t\ttest_PE.sam\t22\t22\t1\t+\t.\t.\r\n",
        "NC_000913\t\ttest_PE.sam\t23\t23\t1\t+\t.\t.\r\n",
        "NC_000913\t\ttest_PE.sam\t24\t24\t1\t+\t.\t.\r\n",
        "NC_000913\t\ttest_PE.sam\t25\t25\t1\t+\t.\t.\r\n",
        "NC_000913\t\ttest_PE.sam\t26\t26\t1\t+\t.\t.\r\n",
        "NC_000913\t\ttest_PE.sam\t27\t27\t1\t+\t.\t.\r\n",
        "NC_000913\t\ttest_PE.sam\t28\t28\t1\t+\t.\t.\r\n",
        "NC_000913\t\ttest_PE.sam\t29\t29\t1\t+\t.\t.\r\n",
        "NC_000913\t\ttest_PE.sam\t30\t30\t1\t+\t.\t.\r\n"
       ]
      }
     ],
     "prompt_number": 14
    },
    {
     "cell_type": "code",
     "collapsed": false,
     "input": [],
     "language": "python",
     "metadata": {},
     "outputs": [],
     "prompt_number": 14
    }
   ],
   "metadata": {}
  }
 ]
}